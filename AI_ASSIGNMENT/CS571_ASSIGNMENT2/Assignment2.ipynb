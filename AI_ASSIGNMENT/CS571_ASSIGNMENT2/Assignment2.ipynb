{
 "cells": [
  {
   "cell_type": "code",
   "execution_count": null,
   "id": "899bef30",
   "metadata": {},
   "outputs": [],
   "source": []
  },
  {
   "cell_type": "code",
   "execution_count": 1,
   "id": "750e3839",
   "metadata": {},
   "outputs": [],
   "source": [
    "# Random Generating Grid"
   ]
  },
  {
   "cell_type": "code",
   "execution_count": 2,
   "id": "dea7992e",
   "metadata": {},
   "outputs": [
    {
     "name": "stdout",
     "output_type": "stream",
     "text": [
      "7 2 5\n",
      "8 3 4\n",
      "1 6 B\n"
     ]
    }
   ],
   "source": [
    "import random\n",
    "\n",
    "# Create a list of numbers from 1 to 8\n",
    "numbers = list(range(1, 9))\n",
    "\n",
    "# Add a blank space represented by 'B'\n",
    "numbers.append('B')\n",
    "\n",
    "# Shuffle the list to randomize the order\n",
    "random.shuffle(numbers)\n",
    "\n",
    "# Create a 3x3 grid\n",
    "grid = [numbers[i:i+3] for i in range(0, 9, 3)]\n",
    "\n",
    "# Print the grid\n",
    "for row in grid:\n",
    "    #print(row)\n",
    "    print(' '.join(map(str, row)))\n"
   ]
  },
  {
   "cell_type": "code",
   "execution_count": null,
   "id": "5eeacac8",
   "metadata": {},
   "outputs": [],
   "source": []
  },
  {
   "cell_type": "code",
   "execution_count": null,
   "id": "92c56690",
   "metadata": {},
   "outputs": [],
   "source": []
  },
  {
   "attachments": {},
   "cell_type": "markdown",
   "id": "789fb174",
   "metadata": {},
   "source": [
    "<b>Certainly! Below are Python programs for finding the goal state from a given starting state using Uniform Cost Search (UCS) and Iterative Deepening Search (IDS), considering that the cost of edges between nodes at the same level is 1 and the cost of edges between nodes at different levels is also 1.</b\\>"
   ]
  },
  {
   "cell_type": "code",
   "execution_count": null,
   "id": "73af0e9a",
   "metadata": {},
   "outputs": [],
   "source": []
  },
  {
   "cell_type": "code",
   "execution_count": 3,
   "id": "ca1391bd",
   "metadata": {},
   "outputs": [
    {
     "name": "stdout",
     "output_type": "stream",
     "text": [
      "Goal State found using UCS:\n",
      "[1, 2, 3]\n",
      "[4, 5, 6]\n",
      "[7, 8, 0]\n"
     ]
    }
   ],
   "source": [
    "from queue import PriorityQueue\n",
    "\n",
    "# Define the goal state\n",
    "goal_state = [1, 2, 3, 4, 5, 6, 7, 8, 0]  # 0 represents the blank space\n",
    "\n",
    "# Define the initial state\n",
    "start_state = [1, 2, 3, 4, 5, 6, 7, 8, 0]\n",
    "\n",
    "# Define a function to calculate the cost of a state (number of misplaced tiles)\n",
    "def calculate_cost(state):\n",
    "    return sum([1 for i in range(len(state)) if state[i] != goal_state[i]])\n",
    "\n",
    "# Define the UCS function\n",
    "def uniform_cost_search(start_state):\n",
    "    visited = set()\n",
    "    queue = PriorityQueue()\n",
    "    queue.put((0, start_state))\n",
    "\n",
    "    while not queue.empty():\n",
    "        cost, current_state = queue.get()\n",
    "        if current_state == goal_state:\n",
    "            return current_state\n",
    "\n",
    "        if tuple(current_state) not in visited:\n",
    "            visited.add(tuple(current_state))\n",
    "            for neighbor in get_neighbors(current_state):\n",
    "                neighbor_cost = calculate_cost(neighbor)\n",
    "                queue.put((neighbor_cost, neighbor))\n",
    "\n",
    "# Define a function to get neighboring states\n",
    "def get_neighbors(state):\n",
    "    neighbors = []\n",
    "    blank_index = state.index(0)\n",
    "    moves = [-3, 3, -1, 1]\n",
    "\n",
    "    for move in moves:\n",
    "        if 0 <= blank_index + move < len(state):\n",
    "            neighbor = state[:]\n",
    "            neighbor[blank_index], neighbor[blank_index + move] = neighbor[blank_index + move], neighbor[blank_index]\n",
    "            neighbors.append(neighbor)\n",
    "\n",
    "    return neighbors\n",
    "\n",
    "result = uniform_cost_search(start_state)\n",
    "if result:\n",
    "    print(\"Goal State found using UCS:\")\n",
    "    for i in range(0, 9, 3):\n",
    "        print(result[i:i+3])\n",
    "else:\n",
    "    print(\"Goal State not found using UCS\")\n"
   ]
  },
  {
   "cell_type": "code",
   "execution_count": 4,
   "id": "d6f812a9",
   "metadata": {},
   "outputs": [
    {
     "name": "stdout",
     "output_type": "stream",
     "text": [
      "Goal State found using IDS:\n",
      "[1, 2, 3]\n",
      "[4, 5, 6]\n",
      "[7, 8, 0]\n"
     ]
    }
   ],
   "source": [
    "# Define a function to check if a state is the goal state\n",
    "def is_goal_state(state):\n",
    "    return state == goal_state\n",
    "\n",
    "# Define the IDS function\n",
    "def iterative_deepening_search(start_state, max_depth=50):\n",
    "    for depth in range(max_depth):\n",
    "        result = depth_limited_search(start_state, depth)\n",
    "        if result is not None:\n",
    "            return result\n",
    "    return None\n",
    "\n",
    "# Define the depth-limited search function\n",
    "def depth_limited_search(state, depth):\n",
    "    if depth == 0:\n",
    "        if is_goal_state(state):\n",
    "            return state\n",
    "        return None\n",
    "    elif depth > 0:\n",
    "        for neighbor in get_neighbors(state):\n",
    "            result = depth_limited_search(neighbor, depth - 1)\n",
    "            if result is not None:\n",
    "                return result\n",
    "    return None\n",
    "\n",
    "result = iterative_deepening_search(start_state)\n",
    "if result:\n",
    "    print(\"Goal State found using IDS:\")\n",
    "    for i in range(0, 9, 3):\n",
    "        print(result[i:i+3])\n",
    "else:\n",
    "    print(\"Goal State not found using IDS\")\n"
   ]
  }
 ],
 "metadata": {
  "kernelspec": {
   "display_name": "Python 3 (ipykernel)",
   "language": "python",
   "name": "python3"
  },
  "language_info": {
   "codemirror_mode": {
    "name": "ipython",
    "version": 3
   },
   "file_extension": ".py",
   "mimetype": "text/x-python",
   "name": "python",
   "nbconvert_exporter": "python",
   "pygments_lexer": "ipython3",
   "version": "3.9.7"
  }
 },
 "nbformat": 4,
 "nbformat_minor": 5
}
