{
 "cells": [
  {
   "cell_type": "markdown",
   "id": "3ecef24b",
   "metadata": {},
   "source": [
    "# Generating a random grid"
   ]
  },
  {
   "cell_type": "code",
   "execution_count": null,
   "id": "bb425426",
   "metadata": {},
   "outputs": [],
   "source": [
    "import random\n",
    "\n",
    "# Create a list of numbers from 1 to 8\n",
    "numbers = list(range(1, 9))\n",
    "\n",
    "# Add 'B' to represent the blank space\n",
    "numbers.append('B')\n",
    "\n",
    "# Shuffle the numbers randomly\n",
    "random.shuffle(numbers)\n",
    "\n",
    "# Reshape the shuffled numbers into a 3x3 grid\n",
    "grid = [numbers[i:i+3] for i in range(0, 9, 3)]\n",
    "\n",
    "# Print the generated grid\n",
    "for row in grid:\n",
    "    print(\" \".join(map(str, row)))"
   ]
  },
  {
   "cell_type": "code",
   "execution_count": 3,
   "id": "f1240bd7",
   "metadata": {},
   "outputs": [
    {
     "name": "stdout",
     "output_type": "stream",
     "text": [
      "It's possible to reach the target grid.\n"
     ]
    }
   ],
   "source": [
    "def count_inversions(grid):\n",
    "    inversions = 0\n",
    "    flat_grid = [cell for row in grid for cell in row if cell != 'B']\n",
    "    for i in range(len(flat_grid)):\n",
    "        for j in range(i + 1, len(flat_grid)):\n",
    "            if flat_grid[i] > flat_grid[j]:\n",
    "                inversions += 1\n",
    "    return inversions\n",
    "\n",
    "def is_solvable(start, target):\n",
    "    start_inversions = count_inversions(start)\n",
    "    target_inversions = count_inversions(target)\n",
    "\n",
    "    return start_inversions % 2 == target_inversions % 2\n",
    "\n",
    "# Define the target grid\n",
    "target_grid = [\n",
    "    [1, 2, 3],\n",
    "    [4, 5, 6],\n",
    "    [7, 8, 'B']\n",
    "]\n",
    "\n",
    "# Generate a random start grid\n",
    "random_start_grid = [\n",
    "    [2, 'B' ,7],\n",
    "    [6, 8, 4],\n",
    "    [1, 3, 5]\n",
    "]\n",
    "\n",
    "# Check if the target is reachable from the random start grid\n",
    "reachable = is_solvable(random_start_grid, target_grid)\n",
    "\n",
    "if reachable:\n",
    "    print(\"It's possible to reach the target grid.\")\n",
    "else:\n",
    "    print(\"It's not possible to reach the target grid.\")\n"
   ]
  },
  {
   "cell_type": "code",
   "execution_count": null,
   "id": "10972d9f",
   "metadata": {},
   "outputs": [],
   "source": []
  }
 ],
 "metadata": {
  "kernelspec": {
   "display_name": "Python 3 (ipykernel)",
   "language": "python",
   "name": "python3"
  },
  "language_info": {
   "codemirror_mode": {
    "name": "ipython",
    "version": 3
   },
   "file_extension": ".py",
   "mimetype": "text/x-python",
   "name": "python",
   "nbconvert_exporter": "python",
   "pygments_lexer": "ipython3",
   "version": "3.9.7"
  }
 },
 "nbformat": 4,
 "nbformat_minor": 5
}
